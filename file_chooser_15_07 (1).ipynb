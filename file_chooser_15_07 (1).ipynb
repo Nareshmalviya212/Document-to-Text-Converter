{
  "nbformat": 4,
  "nbformat_minor": 0,
  "metadata": {
    "colab": {
      "name": "file_chooser_15_07.ipynb",
      "provenance": []
    },
    "kernelspec": {
      "name": "python3",
      "display_name": "Python 3"
    },
    "language_info": {
      "name": "python"
    }
  },
  "cells": [
    {
      "cell_type": "code",
      "source": [
        "!pip install pdfminer.six\n",
        "!pip install newspaper\n",
        "!pip install newspaper3k\n",
        "!pip install docx2txt\n"
      ],
      "metadata": {
        "colab": {
          "base_uri": "https://localhost:8080/"
        },
        "id": "ahR-PlN4m9ib",
        "outputId": "809928f5-a49a-4d28-b52c-ad607b6278bf"
      },
      "execution_count": 36,
      "outputs": [
        {
          "output_type": "stream",
          "name": "stdout",
          "text": [
            "Looking in indexes: https://pypi.org/simple, https://us-python.pkg.dev/colab-wheels/public/simple/\n",
            "Requirement already satisfied: pdfminer.six in /usr/local/lib/python3.7/dist-packages (20220524)\n",
            "Requirement already satisfied: cryptography>=36.0.0 in /usr/local/lib/python3.7/dist-packages (from pdfminer.six) (37.0.4)\n",
            "Requirement already satisfied: charset-normalizer>=2.0.0 in /usr/local/lib/python3.7/dist-packages (from pdfminer.six) (2.1.0)\n",
            "Requirement already satisfied: cffi>=1.12 in /usr/local/lib/python3.7/dist-packages (from cryptography>=36.0.0->pdfminer.six) (1.15.1)\n",
            "Requirement already satisfied: pycparser in /usr/local/lib/python3.7/dist-packages (from cffi>=1.12->cryptography>=36.0.0->pdfminer.six) (2.21)\n",
            "Looking in indexes: https://pypi.org/simple, https://us-python.pkg.dev/colab-wheels/public/simple/\n",
            "Collecting newspaper\n",
            "  Using cached newspaper-0.1.0.7.tar.gz (176 kB)\n",
            "\u001b[33mWARNING: Discarding https://files.pythonhosted.org/packages/d8/07/5765cc9c36e2be1a0f0e615b7a092129e1ba30a25182506dea437290c193/newspaper-0.1.0.7.tar.gz#sha256=929ea447660d2633d3eea6c2aba703b549f7cdd56bd5cf636eb8f1454b254945 (from https://pypi.org/simple/newspaper/). Command errored out with exit status 1: python setup.py egg_info Check the logs for full command output.\u001b[0m\n",
            "  Using cached newspaper-0.1.0.6.tar.gz (176 kB)\n",
            "Collecting beautifulsoup4==4.3.2\n",
            "  Using cached beautifulsoup4-4.3.2.tar.gz (143 kB)\n",
            "Collecting Pillow==2.5.1\n",
            "  Using cached Pillow-2.5.1.zip (6.9 MB)\n",
            "Collecting PyYAML==3.11\n",
            "  Using cached PyYAML-3.11.zip (371 kB)\n",
            "Collecting cssselect==0.9.1\n",
            "  Using cached cssselect-0.9.1.tar.gz (32 kB)\n",
            "Collecting lxml==3.3.5\n",
            "  Using cached lxml-3.3.5.tar.gz (3.5 MB)\n",
            "Collecting nltk==2.0.5\n",
            "  Using cached nltk-2.0.5.zip (1.1 MB)\n",
            "\u001b[33mWARNING: Discarding https://files.pythonhosted.org/packages/61/32/c7d454c7d232034dfb492b6ef5d749b367c58e0a0f2ed4125eb4089b9227/nltk-2.0.5.zip#sha256=edbeb82d03ef6fe24d4ec8380998d23cb2e36eb43350c9f33e932fe07de42cd5 (from https://pypi.org/simple/nltk/). Command errored out with exit status 1: python setup.py egg_info Check the logs for full command output.\u001b[0m\n",
            "  Using cached nltk-2.0.5.tar.gz (954 kB)\n",
            "\u001b[33mWARNING: Discarding https://files.pythonhosted.org/packages/50/9e/39418026bf8013bbc2852c7aec3fb21e4339f6cd694934496d67a19b53b8/nltk-2.0.5.tar.gz#sha256=590b1752fb39427ad8018a65f72355c22e8276d476699aa4a488e38c1b17889a (from https://pypi.org/simple/nltk/). Command errored out with exit status 1: python setup.py egg_info Check the logs for full command output.\u001b[0m\n",
            "Collecting newspaper\n",
            "  Using cached newspaper-0.1.0.5.tar.gz (49 kB)\n",
            "\u001b[33mWARNING: Discarding https://files.pythonhosted.org/packages/57/21/35a7e7040e70a628b526c6830e6f506868f54dcaadffbe57cb3d393af5cb/newspaper-0.1.0.5.tar.gz#sha256=b346e615f5a0c8ac5ab1ebab2420ad24fda7fc78198cae32f1b3fed640dde788 (from https://pypi.org/simple/newspaper/). Command errored out with exit status 1: python setup.py egg_info Check the logs for full command output.\u001b[0m\n",
            "  Using cached newspaper-0.1.0.4.tar.gz (49 kB)\n",
            "\u001b[33mWARNING: Discarding https://files.pythonhosted.org/packages/da/a3/88885ac6e2f65b84f23511da21bdd486d63d2a035d0adab6e4ef89cd4c25/newspaper-0.1.0.4.tar.gz#sha256=927edcccb7d57905fbd24fde4fb3879ffcc59d082877ac7c40963f795372cb67 (from https://pypi.org/simple/newspaper/). Command errored out with exit status 1: python setup.py egg_info Check the logs for full command output.\u001b[0m\n",
            "  Using cached newspaper-0.1.0.3.tar.gz (49 kB)\n",
            "\u001b[33mWARNING: Discarding https://files.pythonhosted.org/packages/4f/59/140bdf8b9413c552fdfa73eb01b6622eaa8ed62ded2f390c4062b58f58bb/newspaper-0.1.0.3.tar.gz#sha256=d2eb46563c973a4046e82580d6193df42b86bff12cbfcb39e9780b0f7dc24595 (from https://pypi.org/simple/newspaper/). Command errored out with exit status 1: python setup.py egg_info Check the logs for full command output.\u001b[0m\n",
            "  Using cached newspaper-0.1.0.2.tar.gz (180 kB)\n",
            "  Using cached newspaper-0.1.0.1.tar.gz (49 kB)\n",
            "\u001b[33mWARNING: Discarding https://files.pythonhosted.org/packages/9c/57/e6af9770c3241725fbf7a79c6f2954988947202e2cab01cdf53457f039a8/newspaper-0.1.0.1.tar.gz#sha256=bc40cf56e35f0c6fe79b77f3a4c84a950de9f66559a51bd280e3c363796afc75 (from https://pypi.org/simple/newspaper/). Command errored out with exit status 1: python setup.py egg_info Check the logs for full command output.\u001b[0m\n",
            "  Using cached newspaper-0.1.0.0.tar.gz (49 kB)\n",
            "\u001b[33mWARNING: Discarding https://files.pythonhosted.org/packages/be/7b/a34b526cf37727ef353ff46217173a67a598fbbf3d8dbd80b899e51af45c/newspaper-0.1.0.0.tar.gz#sha256=8c71680c09c39642be06d632149fe0e44a93ae5494e9f98c19fc79d6d21817bf (from https://pypi.org/simple/newspaper/). Command errored out with exit status 1: python setup.py egg_info Check the logs for full command output.\u001b[0m\n",
            "  Using cached newspaper-0.0.9.9.tar.gz (49 kB)\n",
            "\u001b[33mWARNING: Discarding https://files.pythonhosted.org/packages/ad/b6/02023ed7543c280cbd18eef61502b97f63eed842a1414f7596e370a97362/newspaper-0.0.9.9.tar.gz#sha256=e2449afd697d9280c78301e4d1e385fd7d6dc73e0a4a130c35f0e909f1804402 (from https://pypi.org/simple/newspaper/). Command errored out with exit status 1: python setup.py egg_info Check the logs for full command output.\u001b[0m\n",
            "  Using cached newspaper-0.0.9.8.tar.gz (248 kB)\n",
            "  Using cached newspaper-0.0.9.6.tar.gz (244 kB)\n",
            "Collecting nltk==2.0.4\n",
            "  Using cached nltk-2.0.4.zip (1.1 MB)\n",
            "\u001b[33mWARNING: Discarding https://files.pythonhosted.org/packages/25/a7/f8938bdf6f6d17e37e882b67f1362c0fdb6a8a609a69252b6033d6c546c5/nltk-2.0.4.zip#sha256=70936b0cf30710a1d63df152c3286af39af37b131cd176c0202e6665a8630632 (from https://pypi.org/simple/nltk/). Command errored out with exit status 1: python setup.py egg_info Check the logs for full command output.\u001b[0m\n",
            "  Using cached nltk-2.0.4.tar.gz (955 kB)\n",
            "\u001b[33mWARNING: Discarding https://files.pythonhosted.org/packages/81/f6/30c4eb35ad7a4b5e9301943c8738b79ebb8152f0986e877f809b8e295c61/nltk-2.0.4.tar.gz#sha256=a554d6b9c5c7c8b597a090d8848a6f78c6fc4665ae43c9a6a6d6a5b207d98c65 (from https://pypi.org/simple/nltk/). Command errored out with exit status 1: python setup.py egg_info Check the logs for full command output.\u001b[0m\n",
            "Collecting newspaper\n",
            "  Using cached newspaper-0.0.9.5.tar.gz (244 kB)\n",
            "  Using cached newspaper-0.0.9.2.tar.gz (242 kB)\n",
            "  Using cached newspaper-0.0.9.1.tar.gz (760 kB)\n",
            "Collecting BeautifulSoup==3.2.1\n",
            "  Using cached BeautifulSoup-3.2.1.tar.gz (31 kB)\n",
            "\u001b[33mWARNING: Discarding https://files.pythonhosted.org/packages/1e/ee/295988deca1a5a7accd783d0dfe14524867e31abb05b6c0eeceee49c759d/BeautifulSoup-3.2.1.tar.gz#sha256=6a8cb4401111e011b579c8c52a51cdab970041cc543814bbd9577a4529fe1cdb (from https://pypi.org/simple/beautifulsoup/). Command errored out with exit status 1: python setup.py egg_info Check the logs for full command output.\u001b[0m\n",
            "Collecting newspaper\n",
            "  Using cached newspaper-0.0.9.tar.gz (760 kB)\n",
            "  Using cached newspaper-0.0.8.tar.gz (6.9 MB)\n",
            "Requirement already satisfied: lxml in /usr/local/lib/python3.7/dist-packages (from newspaper) (4.2.6)\n",
            "Requirement already satisfied: requests in /usr/local/lib/python3.7/dist-packages (from newspaper) (2.23.0)\n",
            "Requirement already satisfied: nltk in /usr/local/lib/python3.7/dist-packages (from newspaper) (3.7)\n",
            "Requirement already satisfied: Pillow in /usr/local/lib/python3.7/dist-packages (from newspaper) (7.1.2)\n",
            "Requirement already satisfied: cssselect in /usr/local/lib/python3.7/dist-packages (from newspaper) (1.1.0)\n",
            "Collecting BeautifulSoup\n",
            "  Using cached BeautifulSoup-3.2.2.tar.gz (32 kB)\n",
            "\u001b[33mWARNING: Discarding https://files.pythonhosted.org/packages/40/f2/6c9f2f3e696ee6a1fb0e4d7850617e224ed2b0b1e872110abffeca2a09d4/BeautifulSoup-3.2.2.tar.gz#sha256=a04169602bff6e3138b1259dbbf491f5a27f9499dea9a8fbafd48843f9d89970 (from https://pypi.org/simple/beautifulsoup/). Command errored out with exit status 1: python setup.py egg_info Check the logs for full command output.\u001b[0m\n",
            "  Using cached BeautifulSoup-3.2.0.tar.gz (31 kB)\n",
            "\u001b[33mWARNING: Discarding https://files.pythonhosted.org/packages/33/fe/15326560884f20d792d3ffc7fe8f639aab88647c9d46509a240d9bfbb6b1/BeautifulSoup-3.2.0.tar.gz#sha256=0dc52d07516c1665c9dd9f0a390a7a054bfb7b147a50b2866fb116b8909dfd37 (from https://pypi.org/simple/beautifulsoup/). Command errored out with exit status 1: python setup.py egg_info Check the logs for full command output.\u001b[0m\n",
            "Collecting newspaper\n",
            "  Using cached newspaper-0.0.7.tar.gz (6.9 MB)\n",
            "\u001b[33mWARNING: Discarding https://files.pythonhosted.org/packages/6f/ed/2a56827d9291bd27251d60bfd11affd3dce7d24ba929014bbd4975a17eca/newspaper-0.0.7.tar.gz#sha256=a29c39e9c1c142238249208aed07204047c4a0b1cdcc92138dc98953cf66f7c3 (from https://pypi.org/simple/newspaper/). Command errored out with exit status 1: python setup.py egg_info Check the logs for full command output.\u001b[0m\n",
            "  Using cached newspaper-0.0.6.tar.gz (7.0 MB)\n",
            "\u001b[33mWARNING: Discarding https://files.pythonhosted.org/packages/d7/7f/ddcd5263d1fa14936786b01f62e75a4f806f98cb2255587af00ccb08b97b/newspaper-0.0.6.tar.gz#sha256=7bb92ecf4ef26dc3121b798e933dfc4cce3eb95d1d9e4ae01887231f12e30f9d (from https://pypi.org/simple/newspaper/). Command errored out with exit status 1: python setup.py egg_info Check the logs for full command output.\u001b[0m\n",
            "  Using cached newspaper-0.0.5.tar.gz (7.7 MB)\n",
            "\u001b[33mWARNING: Discarding https://files.pythonhosted.org/packages/de/4b/3279534d13073ea8958edff3b97e39e853faec4436e1c9d805f9cf6e9f23/newspaper-0.0.5.tar.gz#sha256=7fe4fa9121bb07707fa2489479ab7994a056ca9cc3a848ed634d5537c7eaa0bc (from https://pypi.org/simple/newspaper/). Command errored out with exit status 1: python setup.py egg_info Check the logs for full command output.\u001b[0m\n",
            "  Using cached newspaper-0.0.4.tar.gz (6.7 MB)\n",
            "\u001b[33mWARNING: Discarding https://files.pythonhosted.org/packages/44/10/cc8abed3de450ea2925601e29951eec9658a19f18572429cc29380ec7ac8/newspaper-0.0.4.tar.gz#sha256=359934ee0c47015687ac3b71d51c7d1a87e8b95ff96135bdbe5c4d2e2c20c735 (from https://pypi.org/simple/newspaper/). Command errored out with exit status 1: python setup.py egg_info Check the logs for full command output.\u001b[0m\n",
            "  Using cached newspaper-0.0.3.tar.gz (10.8 MB)\n",
            "Collecting lxml==3.2.4\n",
            "  Using cached lxml-3.2.4.tar.gz (3.3 MB)\n",
            "Collecting newspaper\n",
            "  Using cached newspaper-0.0.2.tar.gz (10.8 MB)\n",
            "\u001b[33mWARNING: Discarding https://files.pythonhosted.org/packages/6f/d3/c73ee757a0d2cd493a7d1ad16482902761ca5be3a52d971bce0cbf17b6fd/newspaper-0.0.2.tar.gz#sha256=a94c0427bc20448242457873d9dddb8c872ce82a6fb342b90b72bec790a117ab (from https://pypi.org/simple/newspaper/). Command errored out with exit status 1: python setup.py egg_info Check the logs for full command output.\u001b[0m\n",
            "\u001b[31mERROR: Cannot install newspaper==0.0.3, newspaper==0.0.8, newspaper==0.0.9, newspaper==0.0.9.1, newspaper==0.0.9.2, newspaper==0.0.9.5, newspaper==0.0.9.6, newspaper==0.0.9.8, newspaper==0.1.0.2 and newspaper==0.1.0.6 because these package versions have conflicting dependencies.\u001b[0m\n",
            "\n",
            "The conflict is caused by:\n",
            "    newspaper 0.1.0.6 depends on nltk==2.0.5\n",
            "    newspaper 0.1.0.2 depends on nltk==2.0.5\n",
            "    newspaper 0.0.9.8 depends on nltk==2.0.5\n",
            "    newspaper 0.0.9.6 depends on nltk==2.0.4\n",
            "    newspaper 0.0.9.5 depends on nltk==2.0.4\n",
            "    newspaper 0.0.9.2 depends on nltk==2.0.4\n",
            "    newspaper 0.0.9.1 depends on BeautifulSoup==3.2.1\n",
            "    newspaper 0.0.9 depends on BeautifulSoup==3.2.1\n",
            "    newspaper 0.0.8 depends on BeautifulSoup\n",
            "    newspaper 0.0.3 depends on BeautifulSoup\n",
            "\n",
            "To fix this you could try to:\n",
            "1. loosen the range of package versions you've specified\n",
            "2. remove package versions to allow pip attempt to solve the dependency conflict\n",
            "\n",
            "\u001b[31mERROR: ResolutionImpossible: for help visit https://pip.pypa.io/en/latest/user_guide/#fixing-conflicting-dependencies\u001b[0m\n",
            "Looking in indexes: https://pypi.org/simple, https://us-python.pkg.dev/colab-wheels/public/simple/\n",
            "Requirement already satisfied: newspaper3k in /usr/local/lib/python3.7/dist-packages (0.2.8)\n",
            "Requirement already satisfied: requests>=2.10.0 in /usr/local/lib/python3.7/dist-packages (from newspaper3k) (2.23.0)\n",
            "Requirement already satisfied: tldextract>=2.0.1 in /usr/local/lib/python3.7/dist-packages (from newspaper3k) (3.3.1)\n",
            "Requirement already satisfied: PyYAML>=3.11 in /usr/local/lib/python3.7/dist-packages (from newspaper3k) (3.13)\n",
            "Requirement already satisfied: python-dateutil>=2.5.3 in /usr/local/lib/python3.7/dist-packages (from newspaper3k) (2.8.2)\n",
            "Requirement already satisfied: lxml>=3.6.0 in /usr/local/lib/python3.7/dist-packages (from newspaper3k) (4.2.6)\n",
            "Requirement already satisfied: Pillow>=3.3.0 in /usr/local/lib/python3.7/dist-packages (from newspaper3k) (7.1.2)\n",
            "Requirement already satisfied: feedparser>=5.2.1 in /usr/local/lib/python3.7/dist-packages (from newspaper3k) (6.0.10)\n",
            "Requirement already satisfied: tinysegmenter==0.3 in /usr/local/lib/python3.7/dist-packages (from newspaper3k) (0.3)\n",
            "Requirement already satisfied: cssselect>=0.9.2 in /usr/local/lib/python3.7/dist-packages (from newspaper3k) (1.1.0)\n",
            "Requirement already satisfied: beautifulsoup4>=4.4.1 in /usr/local/lib/python3.7/dist-packages (from newspaper3k) (4.6.3)\n",
            "Requirement already satisfied: nltk>=3.2.1 in /usr/local/lib/python3.7/dist-packages (from newspaper3k) (3.7)\n",
            "Requirement already satisfied: feedfinder2>=0.0.4 in /usr/local/lib/python3.7/dist-packages (from newspaper3k) (0.0.4)\n",
            "Requirement already satisfied: jieba3k>=0.35.1 in /usr/local/lib/python3.7/dist-packages (from newspaper3k) (0.35.1)\n",
            "Requirement already satisfied: six in /usr/local/lib/python3.7/dist-packages (from feedfinder2>=0.0.4->newspaper3k) (1.15.0)\n",
            "Requirement already satisfied: sgmllib3k in /usr/local/lib/python3.7/dist-packages (from feedparser>=5.2.1->newspaper3k) (1.0.0)\n",
            "Requirement already satisfied: tqdm in /usr/local/lib/python3.7/dist-packages (from nltk>=3.2.1->newspaper3k) (4.64.0)\n",
            "Requirement already satisfied: regex>=2021.8.3 in /usr/local/lib/python3.7/dist-packages (from nltk>=3.2.1->newspaper3k) (2022.6.2)\n",
            "Requirement already satisfied: click in /usr/local/lib/python3.7/dist-packages (from nltk>=3.2.1->newspaper3k) (7.1.2)\n",
            "Requirement already satisfied: joblib in /usr/local/lib/python3.7/dist-packages (from nltk>=3.2.1->newspaper3k) (1.1.0)\n",
            "Requirement already satisfied: certifi>=2017.4.17 in /usr/local/lib/python3.7/dist-packages (from requests>=2.10.0->newspaper3k) (2022.6.15)\n",
            "Requirement already satisfied: urllib3!=1.25.0,!=1.25.1,<1.26,>=1.21.1 in /usr/local/lib/python3.7/dist-packages (from requests>=2.10.0->newspaper3k) (1.24.3)\n",
            "Requirement already satisfied: chardet<4,>=3.0.2 in /usr/local/lib/python3.7/dist-packages (from requests>=2.10.0->newspaper3k) (3.0.4)\n",
            "Requirement already satisfied: idna<3,>=2.5 in /usr/local/lib/python3.7/dist-packages (from requests>=2.10.0->newspaper3k) (2.10)\n",
            "Requirement already satisfied: requests-file>=1.4 in /usr/local/lib/python3.7/dist-packages (from tldextract>=2.0.1->newspaper3k) (1.5.1)\n",
            "Requirement already satisfied: filelock>=3.0.8 in /usr/local/lib/python3.7/dist-packages (from tldextract>=2.0.1->newspaper3k) (3.7.1)\n",
            "Looking in indexes: https://pypi.org/simple, https://us-python.pkg.dev/colab-wheels/public/simple/\n",
            "Requirement already satisfied: docx2txt in /usr/local/lib/python3.7/dist-packages (0.8)\n"
          ]
        }
      ]
    },
    {
      "cell_type": "code",
      "source": [
        "import os\n",
        "from pdfminer.high_level import extract_text\n",
        "import docx2txt\n",
        "from newspaper import Article\n",
        "\n"
      ],
      "metadata": {
        "id": "ivTDYNE9hu3H"
      },
      "execution_count": 37,
      "outputs": []
    },
    {
      "cell_type": "code",
      "execution_count": 52,
      "metadata": {
        "id": "kNG-Zb4FfxTD"
      },
      "outputs": [],
      "source": [
        "def file_chooser(filepaths):\n",
        "  fil = list(filepaths.split(\" \"))\n",
        "  for fp in fil:\n",
        "    #Split list into part\n",
        "    ext = os.path.splitext(fp)[-1].lower()\n",
        "\n",
        "    #Now we can simply use == to chehck\n",
        "    if ext == \".txt\":\n",
        "        text=open(filepaths,\"r\")\n",
        "        text=text.read()\n",
        "        text=text.lower()\n",
        "\n",
        "    elif ext == \".pdf\":\n",
        "        text = extract_text(filepaths)\n",
        "        text = extract_text(filepaths, page_numbers = range(2000)) #here i set randomly last range(2000) of pdf page\n",
        "        text=text.lower()\n",
        "\n",
        "    elif ext == \".docx\":\n",
        "        text=docx2txt.process(filepaths)\n",
        "        text=text.replace('\\xa0',' ')\n",
        "        text=text.lower()\n",
        "        \n",
        "    else:\n",
        "        url = filepaths\n",
        "        article = Article(url)\n",
        "        article.download()\n",
        "        article.parse()\n",
        "        ar=article.text.split()\n",
        "        text=article.text\n",
        "    \n",
        "    print(text)\n"
      ]
    },
    {
      "cell_type": "code",
      "source": [
        "fp=file_chooser('/content/port_2.docx')\n",
        "#print(text)"
      ],
      "metadata": {
        "colab": {
          "base_uri": "https://localhost:8080/"
        },
        "id": "CI9F82YFhOdn",
        "outputId": "0a840bad-6b54-43e2-fcf0-7920d7210089"
      },
      "execution_count": 53,
      "outputs": [
        {
          "output_type": "stream",
          "name": "stdout",
          "text": [
            "naruto was serialized in shueisha's magazine, weekly shōnen jump from 1999 to 2014, and released in tankōbon (book) form in 72 volumes. the manga was adapted into an anime television series produced by pierrot and aniplex, which broadcast 220 episodes in japan from 2002 to 2007; the english dub of the series aired on cartoon network and ytv from 2005 to 2009. naruto: shippuden, a sequel to the original series, premiered in japan in 2007, and ended in 2017, after 500 episodes. the english dub was broadcast on disney xd from 2009 to 2011, airing the first 98 episodes, and then switched over to adult swim's toonami programming block in january 2014, starting over from the first episode. the english dub is still airing weekly on adult swim to this day. viz media began streaming the anime series on their streaming service neon alley in december 2012 on 99 episodes, and ended on march 2016, after 338 episodes. besides the anime series, pierrot has developed eleven movies and twelve original video animations (ovas). other naruto-related merchandise includes light novels, video games, and trading cards developed by several companies.\n"
          ]
        }
      ]
    },
    {
      "cell_type": "code",
      "source": [
        ""
      ],
      "metadata": {
        "id": "frO1d6b_jH5S"
      },
      "execution_count": null,
      "outputs": []
    }
  ]
}